{
 "cells": [
  {
   "cell_type": "code",
   "execution_count": null,
   "id": "a308dfad-92ce-4e45-8f79-c125cfd9a746",
   "metadata": {},
   "outputs": [],
   "source": [
    "1-->percentage = float(input(\"Enter your percentage:\"))\n",
    "\n",
    "if percentage > 90:\n",
    "    grade = \"A\"\n",
    "elif percentage > 80 and percentage <= 90:\n",
    "    grade = \"B\"\n",
    "elif percentage >= 60 and percentage <= 80:\n",
    "    grade = \"C\"\n",
    "else:\n",
    "    grade = \"D\"\n",
    "    \n",
    "print(\"your grade is:\", grade)\n"
   ]
  },
  {
   "cell_type": "code",
   "execution_count": null,
   "id": "0e76d3db-dea8-45cf-acc0-2d5931126438",
   "metadata": {},
   "outputs": [],
   "source": [
    "The output is depend on percentage entered by the user.\n",
    "for example- if the user enters 92,the output will be:\n",
    "    \n",
    "    Enter your percentage: 92\n",
    "    your grade is: A"
   ]
  },
  {
   "cell_type": "code",
   "execution_count": null,
   "id": "3737969b-6ca2-417f-adf3-7efef434c42b",
   "metadata": {},
   "outputs": [],
   "source": [
    "2--> def road_tax(cost_price)\n",
    "      if cost_price > 100000 :\n",
    "        return cost_price * 0.15\n",
    "    elif cost_price > 50000:\n",
    "        return cost_price * 0.10\n",
    "    else:\n",
    "        return cost_price * 0.05\n",
    "    \n",
    "    cost_price = float(input(\"Enter the cost price of the bike: \"))\n",
    "    tax = road_tax(cost_price)\n",
    "    print(\"The road tax to be paid is :\",tax)"
   ]
  },
  {
   "cell_type": "code",
   "execution_count": null,
   "id": "8cd37271-0542-40e3-b14f-d9e8295ca7db",
   "metadata": {},
   "outputs": [],
   "source": [
    "3--> city_monuments = {\"Delhi\":[\"Red fort\"],\n",
    "                      \"Agra\":[\"Taj mahal\"],\n",
    "                      \"jaipur\":[\"Jal mahal\"]\n",
    "                     }\n",
    "     city = input(\"Enter the name of the city:\") \n",
    "      if city in city_monuments:\n",
    "        print(\"The monuments in \",city,\"are:\")\n",
    "        \n",
    "        for monument in city_monuments[city]:\n",
    "            print(\"-\",monument)\n",
    "    else:\n",
    "        print(\"No monuments found for the city:\", city)"
   ]
  },
  {
   "cell_type": "code",
   "execution_count": null,
   "id": "022fa04c-6809-4b80-be62-ed6615891eba",
   "metadata": {},
   "outputs": [],
   "source": [
    "4--> num = int(input(\"Enter anumber:\"))\n",
    "   \n",
    "    count = 0\n",
    "    while num > 10:\n",
    "        num = num / 3\n",
    "        count += 1\n",
    "        \n",
    "    print(\"The number can be divided by 3\", count ,\"times before it become less than or equal to 10.\")"
   ]
  },
  {
   "cell_type": "code",
   "execution_count": null,
   "id": "4cd6e4df-cba1-4a56-8717-3910d06a517b",
   "metadata": {},
   "outputs": [],
   "source": [
    "5-->while loop in python is used to repeatedly execute a block of code as long as a certain condition is met.\n",
    "    The condition is specified in the while statement,and as long as the condition evaluates to 'True'.\n",
    "    The inside loop will be executed.\n",
    "    \n",
    "    Here example-count = 0\n",
    "    \n",
    "       while count < 5:\n",
    "            print(\"The count is\",count)\n",
    "            count += 1\n",
    "        print(\"Finished loop.\")\n",
    "        "
   ]
  },
  {
   "cell_type": "markdown",
   "id": "292774ae-3991-4d63-b61f-7b76ffa40c3c",
   "metadata": {},
   "source": [
    "## 6--> A right-angled triangle:\n",
    "\n",
    "  rows = int(input(\"Enter the number of rows: \"))\n",
    "\n",
    "     row = 1\n",
    "    while row <= rows:\n",
    "        col = 1\n",
    "    while col <= row:\n",
    "        print(\"*\", end=\"\")\n",
    "        col += 1\n",
    "        print(\"\")\n",
    "        row += 1\n",
    "        \n",
    "An inverted right-angled triangle:\n",
    "    rows = int(input(\"Enter the number of rows:\"))\n",
    "    \n",
    "      row = rows\n",
    "        while row >= 1:\n",
    "            col   = 1\n",
    "            while col <= row:\n",
    "                print(\"*\",end=\"\")\n",
    "                col += 1\n",
    "                print(\"\")\n",
    "                row -= 1\n",
    "                \n",
    "A pyramid:\n",
    "\n",
    "    rows = int(input(\"Enter the number of rows:\"))\n",
    "     row = 1\n",
    "        while row <= rows:\n",
    "            spaces = 1\n",
    "            while spaces <= rows - row:\n",
    "                print(\" \", end=\"\")\n",
    "                spaces += 1\n",
    "            stars = 1\n",
    "            while stars <= (2 * row -1):\n",
    "               print(\"*\", end= \"\")\n",
    "               stars += 1\n",
    "               print(\" \")\n",
    "             row += 1"
   ]
  },
  {
   "cell_type": "code",
   "execution_count": null,
   "id": "06176e94-25d2-4e77-ad5e-e89ef689bb4d",
   "metadata": {},
   "outputs": [],
   "source": [
    "7--> num = 10\n",
    "     while num >= 1:\n",
    "        print(num)\n",
    "        num -= 1"
   ]
  },
  {
   "cell_type": "code",
   "execution_count": null,
   "id": "dccafa0c-4dbf-489f-a25d-20bf5b757dfb",
   "metadata": {},
   "outputs": [],
   "source": [
    "output: 10\n",
    "        9\n",
    "        8\n",
    "        7\n",
    "        6\n",
    "        5\n",
    "        4\n",
    "        3\n",
    "        2\n",
    "        1"
   ]
  }
 ],
 "metadata": {
  "kernelspec": {
   "display_name": "Python 3 (ipykernel)",
   "language": "python",
   "name": "python3"
  },
  "language_info": {
   "codemirror_mode": {
    "name": "ipython",
    "version": 3
   },
   "file_extension": ".py",
   "mimetype": "text/x-python",
   "name": "python",
   "nbconvert_exporter": "python",
   "pygments_lexer": "ipython3",
   "version": "3.10.8"
  }
 },
 "nbformat": 4,
 "nbformat_minor": 5
}
